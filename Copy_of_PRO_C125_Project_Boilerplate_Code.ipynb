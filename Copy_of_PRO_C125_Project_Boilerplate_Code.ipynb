{
  "nbformat": 4,
  "nbformat_minor": 0,
  "metadata": {
    "colab": {
      "name": "Copy of PRO-C125-Project-Boilerplate-Code.ipynb",
      "provenance": [],
      "collapsed_sections": [],
      "include_colab_link": true
    },
    "kernelspec": {
      "name": "python3",
      "display_name": "Python 3"
    },
    "language_info": {
      "name": "python"
    }
  },
  "cells": [
    {
      "cell_type": "markdown",
      "metadata": {
        "id": "view-in-github",
        "colab_type": "text"
      },
      "source": [
        "<a href=\"https://colab.research.google.com/github/Tanishka002/Chocolate-cake-Recipe/blob/main/Copy_of_PRO_C125_Project_Boilerplate_Code.ipynb\" target=\"_parent\"><img src=\"https://colab.research.google.com/assets/colab-badge.svg\" alt=\"Open In Colab\"/></a>"
      ]
    },
    {
      "cell_type": "markdown",
      "source": [
        "**Archery-Target** is a game in which the players shoot sharp-pointed arrows at a round target having 10 rings.\n",
        "\n",
        "<img src=\"https://s3-whjr-curriculum-uploads.whjr.online/4de9132a-c71d-42ce-9099-3293e8805fd9.jpg\"> "
      ],
      "metadata": {
        "id": "nUWO5QkC_g-4"
      }
    },
    {
      "cell_type": "markdown",
      "source": [
        "## RL Problem to Solve\n",
        "Hit the center of the target with maximum reward"
      ],
      "metadata": {
        "id": "5QtHLAqv3wP3"
      }
    },
    {
      "cell_type": "markdown",
      "source": [
        "<img src=\"https://s3-whjr-curriculum-uploads.whjr.online/40656a8c-14e2-4dd7-9f9e-4c17669b9182.png\" width=300>\n",
        "\n",
        "\n",
        "Number of **State**: ?\n",
        "\n",
        "Number of **Actions**: ?\n",
        "\n"
      ],
      "metadata": {
        "id": "Osb6FQ74YZtE"
      }
    },
    {
      "cell_type": "markdown",
      "source": [
        "## Rewards"
      ],
      "metadata": {
        "id": "m3Ut2W9A4EiB"
      }
    },
    {
      "cell_type": "code",
      "source": [
        "#import required libraries\n",
        "import numpy as np\n",
        "import random\n"
      ],
      "metadata": {
        "id": "PqX3v26eEt0T"
      },
      "execution_count": 1,
      "outputs": []
    },
    {
      "cell_type": "markdown",
      "source": [
        "## Reward Matrix\n",
        "Reward Matrix represents states as rows and actions as columns with respective awards values assigned for a given state and action pair."
      ],
      "metadata": {
        "id": "Ujmi3BO54LfJ"
      }
    },
    {
      "cell_type": "code",
      "source": [
        "#Create reward matrix\n",
        "rewards = np.array([\n",
        " [0,1,2,5,10]\n",
        "])\n",
        "\n"
      ],
      "metadata": {
        "id": "khJ1RqL3Eksu"
      },
      "execution_count": 2,
      "outputs": []
    },
    {
      "cell_type": "code",
      "source": [
        "def set_initial_state():\n",
        "  return np.random.randint(0,5)"
      ],
      "metadata": {
        "id": "YLpBxwiZQrPz"
      },
      "execution_count": 3,
      "outputs": []
    },
    {
      "cell_type": "code",
      "source": [
        "set_initial_state()"
      ],
      "metadata": {
        "id": "5zGRcYnpQ6MB",
        "outputId": "2f2cad08-41c2-4765-ba86-0c60e04db71b",
        "colab": {
          "base_uri": "https://localhost:8080/"
        }
      },
      "execution_count": 4,
      "outputs": [
        {
          "output_type": "execute_result",
          "data": {
            "text/plain": [
              "4"
            ]
          },
          "metadata": {},
          "execution_count": 4
        }
      ]
    },
    {
      "cell_type": "markdown",
      "source": [
        "## Take Action Randomly"
      ],
      "metadata": {
        "id": "Af-CAmdfkDQY"
      }
    },
    {
      "cell_type": "code",
      "source": [
        "#Define a function shoot() for taking random action\n",
        " \n",
        "def shoot(current_state,reward_matrix):\n",
        "  available_action=[]\n",
        "  print(\"reward_matrix\",\"\\n\",reward_matrix)\n",
        "  for action in enumerate(reward_matrix[current_state]):\n",
        "    if action[1]!=-1:\n",
        "      available_action.append(action[0])\n",
        "      choose_action=random.choice(available_action)\n",
        "      print(\"random choice of action from\",available_action,\"is\",choose_action)\n",
        "      return choose_action\n",
        " "
      ],
      "metadata": {
        "id": "ibSLCyMyigmK"
      },
      "execution_count": 5,
      "outputs": []
    },
    {
      "cell_type": "code",
      "source": [
        "current_state = 0\n",
        "action=shoot(current_state,rewards)\n",
        "print(action)"
      ],
      "metadata": {
        "id": "SHSVtrUqQj86",
        "outputId": "c55cbfd0-ae42-4738-bbd3-4dbe9d58374c",
        "colab": {
          "base_uri": "https://localhost:8080/"
        }
      },
      "execution_count": 6,
      "outputs": [
        {
          "output_type": "stream",
          "name": "stdout",
          "text": [
            "reward_matrix \n",
            " [[ 0  1  2  5 10]]\n",
            "random choice of action from [0] is 0\n",
            "0\n"
          ]
        }
      ]
    },
    {
      "cell_type": "code",
      "source": [
        "q_matrix=np.zeros([1,5])\n",
        "print(q_matrix)"
      ],
      "metadata": {
        "colab": {
          "base_uri": "https://localhost:8080/"
        },
        "id": "RPVbaRB3WFi2",
        "outputId": "11db5f3d-8255-46e9-b4f4-debfdcbac797"
      },
      "execution_count": 7,
      "outputs": [
        {
          "output_type": "stream",
          "name": "stdout",
          "text": [
            "[[0. 0. 0. 0. 0.]]\n"
          ]
        }
      ]
    },
    {
      "cell_type": "code",
      "source": [
        "gamma=0.8\n",
        "def take_action(reward_matrix):\n",
        "  action=shoot(current_state,reward_matrix)\n",
        "  print(action)\n",
        "  reward=reward_matrix[current_state,action]\n",
        "  print(reward)\n",
        "  q_sa_value=max(q_matrix[action,])\n",
        "  print(q_sa_value)\n",
        "\n",
        "  q_current_state=reward+(gamma*q_sa_value)\n",
        "  print(q_current_state)\n",
        "\n",
        "  q_matrix[current_state,action]=q_current_state\n",
        "  print(\"q_matrix\",\"\\n\",q_matrix)\n",
        "  return action,reward\n"
      ],
      "metadata": {
        "id": "gBImMR5HWUoR"
      },
      "execution_count": 13,
      "outputs": []
    },
    {
      "cell_type": "code",
      "source": [
        "take_action(rewards)"
      ],
      "metadata": {
        "colab": {
          "base_uri": "https://localhost:8080/"
        },
        "id": "q4WV5GHjXoGW",
        "outputId": "7e31e7fc-83fb-478d-a211-aa72e4703009"
      },
      "execution_count": 22,
      "outputs": [
        {
          "output_type": "stream",
          "name": "stdout",
          "text": [
            "reward_matrix \n",
            " [[ 0  1  2  5 10]]\n",
            "random choice of action from [0] is 0\n",
            "0\n",
            "0\n",
            "0.0\n",
            "0.0\n",
            "q_matrix \n",
            " [[0. 0. 0. 0. 0.]]\n"
          ]
        },
        {
          "output_type": "execute_result",
          "data": {
            "text/plain": [
              "(0, 0)"
            ]
          },
          "metadata": {},
          "execution_count": 22
        }
      ]
    }
  ]
}